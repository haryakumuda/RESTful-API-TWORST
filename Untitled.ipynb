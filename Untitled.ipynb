{
 "cells": [
  {
   "cell_type": "code",
   "execution_count": 4,
   "id": "40b4152f",
   "metadata": {},
   "outputs": [
    {
     "data": {
      "text/plain": [
       "'e:\\\\OneDrive - Universitas Diponegoro\\\\@Project Data\\\\@BINAR ACADEMY\\\\Challenge\\\\Gold'"
      ]
     },
     "execution_count": 4,
     "metadata": {},
     "output_type": "execute_result"
    }
   ],
   "source": [
    "import pandas as pd\n",
    "import os\n",
    "os.getcwd()"
   ]
  },
  {
   "cell_type": "code",
   "execution_count": 3,
   "id": "cc0db7d0",
   "metadata": {},
   "outputs": [
    {
     "name": "stdout",
     "output_type": "stream",
     "text": [
      "                                                   Tweet  HS  Abusive  \\\n",
      "0      - disaat semua cowok berusaha melacak perhatia...   1        1   \n",
      "1      RT USER: USER siapa yang telat ngasih tau elu?...   0        1   \n",
      "2      41. Kadang aku berfikir, kenapa aku tetap perc...   0        0   \n",
      "3      USER USER AKU ITU AKU\\n\\nKU TAU MATAMU SIPIT T...   0        0   \n",
      "4      USER USER Kaum cebong kapir udah keliatan dong...   1        1   \n",
      "...                                                  ...  ..      ...   \n",
      "13164  USER jangan asal ngomong ndasmu. congor lu yg ...   1        1   \n",
      "13165                       USER Kasur mana enak kunyuk'   0        1   \n",
      "13166  USER Hati hati bisu :( .g\\n\\nlagi bosan huft \\...   0        0   \n",
      "13167  USER USER USER USER Bom yang real mudah terdet...   0        0   \n",
      "13168  USER Mana situ ngasih(\": itu cuma foto ya kuti...   1        1   \n",
      "\n",
      "       HS_Individual  HS_Group  HS_Religion  HS_Race  HS_Physical  HS_Gender  \\\n",
      "0                  1         0            0        0            0          0   \n",
      "1                  0         0            0        0            0          0   \n",
      "2                  0         0            0        0            0          0   \n",
      "3                  0         0            0        0            0          0   \n",
      "4                  0         1            1        0            0          0   \n",
      "...              ...       ...          ...      ...          ...        ...   \n",
      "13164              1         0            0        0            1          0   \n",
      "13165              0         0            0        0            0          0   \n",
      "13166              0         0            0        0            0          0   \n",
      "13167              0         0            0        0            0          0   \n",
      "13168              1         0            0        0            0          0   \n",
      "\n",
      "       HS_Other  HS_Weak  HS_Moderate  HS_Strong  \n",
      "0             1        1            0          0  \n",
      "1             0        0            0          0  \n",
      "2             0        0            0          0  \n",
      "3             0        0            0          0  \n",
      "4             0        0            1          0  \n",
      "...         ...      ...          ...        ...  \n",
      "13164         0        1            0          0  \n",
      "13165         0        0            0          0  \n",
      "13166         0        0            0          0  \n",
      "13167         0        0            0          0  \n",
      "13168         1        1            0          0  \n",
      "\n",
      "[13169 rows x 13 columns]\n"
     ]
    }
   ],
   "source": [
    "x = pd.read_csv('data.csv', encoding=\"ISO-8859-1\")\n",
    "print(x)"
   ]
  },
  {
   "cell_type": "code",
   "execution_count": 7,
   "id": "cc8a14aa",
   "metadata": {},
   "outputs": [
    {
     "name": "stdout",
     "output_type": "stream",
     "text": [
      "Peringkat nomer 1 adalah Budi\n"
     ]
    }
   ],
   "source": [
    "def fungsi(x=\"Harya\"):\n",
    "    print(\"Peringkat nomer 1 adalah \"+x)\n",
    "\n",
    "fungsi(\"Budi\")"
   ]
  },
  {
   "cell_type": "code",
   "execution_count": 14,
   "id": "3e263cdf",
   "metadata": {},
   "outputs": [
    {
     "name": "stdout",
     "output_type": "stream",
     "text": [
      "True\n"
     ]
    }
   ],
   "source": [
    "def genap(x):\n",
    "    return x % 2 == 0\n",
    "\n",
    "print(genap(10))"
   ]
  },
  {
   "cell_type": "code",
   "execution_count": 33,
   "id": "579fe3d9",
   "metadata": {},
   "outputs": [
    {
     "name": "stdout",
     "output_type": "stream",
     "text": [
      "True\n"
     ]
    }
   ],
   "source": [
    "def cek():\n",
    "    a = input(\"Masukan Kalimat Anda :\" )\n",
    "    if \"python\" in a.lower():\n",
    "        return True\n",
    "    else:\n",
    "        return False\n",
    "\n",
    "print(cek())\n"
   ]
  },
  {
   "cell_type": "code",
   "execution_count": 34,
   "id": "a7f21c24",
   "metadata": {},
   "outputs": [
    {
     "name": "stdout",
     "output_type": "stream",
     "text": [
      "17\n"
     ]
    }
   ],
   "source": [
    "def penjumlahan(*args):\n",
    "    a = sum(args)\n",
    "    return a\n",
    "\n",
    "print(penjumlahan(1,3,1,1,1,3,1,3,3))"
   ]
  },
  {
   "cell_type": "code",
   "execution_count": 4,
   "id": "ab83a4ae",
   "metadata": {},
   "outputs": [
    {
     "name": "stdout",
     "output_type": "stream",
     "text": [
      "Saya ingin membeli 23 nasi goreng secara tunai\n"
     ]
    }
   ],
   "source": [
    "def fungsiku(*args, **kwargs):\n",
    "    print(\"Saya ingin membeli {} {} secara tunai\".format(args[0],kwargs[\"makanan\"]))\n",
    "\n",
    "fungsiku(23,24,buah=\"apel\",makanan=\"nasi goreng\")"
   ]
  },
  {
   "cell_type": "code",
   "execution_count": 8,
   "id": "396ae424",
   "metadata": {},
   "outputs": [
    {
     "name": "stdout",
     "output_type": "stream",
     "text": [
      "79\n",
      "1000\n"
     ]
    }
   ],
   "source": [
    "a = 1000\n",
    "def jumlah():\n",
    "    a = 79\n",
    "    return a\n",
    "jumlah()\n",
    "print(jumlah())\n",
    "print(a)"
   ]
  },
  {
   "cell_type": "code",
   "execution_count": 9,
   "id": "44fbccad",
   "metadata": {},
   "outputs": [
    {
     "name": "stdout",
     "output_type": "stream",
     "text": [
      "Halo hasilnya adalah Saya adalah LOCAL\n"
     ]
    }
   ],
   "source": [
    "kalimat = \"Saya adalah GLOBAL\"\n",
    "def cetak():\n",
    "    kalimat = \"Saya adalah LOCAL\"\n",
    "    def eksekusi():\n",
    "        print(\"Halo hasilnya adalah \"+kalimat)\n",
    "    eksekusi()\n",
    "\n",
    "cetak()"
   ]
  },
  {
   "cell_type": "code",
   "execution_count": 48,
   "id": "ed334745",
   "metadata": {},
   "outputs": [
    {
     "name": "stdout",
     "output_type": "stream",
     "text": [
      "Angka = 99\n",
      "Angka = 99\n",
      "Angkanya sekarang berubah menjadi = Berak\n",
      "Berak\n"
     ]
    }
   ],
   "source": [
    "angka = 99\n",
    "def tulis():\n",
    "    global angka\n",
    "    print(f'Angka = {angka}')\n",
    "    print(\"Angka = {}\".format(angka))\n",
    "    angka = \"Berak\"\n",
    "    print(\"Angkanya sekarang berubah menjadi = {}\".format(angka))\n",
    "\n",
    "tulis()\n",
    "print(angka)\n"
   ]
  },
  {
   "cell_type": "code",
   "execution_count": 63,
   "id": "88234b77",
   "metadata": {},
   "outputs": [
    {
     "name": "stdout",
     "output_type": "stream",
     "text": [
      "30\n",
      "40\n",
      "50\n",
      "60\n"
     ]
    },
    {
     "data": {
      "text/plain": [
       "[30, 40, 50, 60]"
      ]
     },
     "execution_count": 63,
     "metadata": {},
     "output_type": "execute_result"
    }
   ],
   "source": [
    "def kali10(num):\n",
    "    return num*10\n",
    "\n",
    "kali10(2)\n",
    "angka = [3,4,5]\n",
    "angka.append(int(input(\"masukkan angkanya\")))\n",
    "for item in map(kali10,angka):\n",
    "    print(item)\n",
    "\n",
    "list(map(kali10,angka))"
   ]
  },
  {
   "cell_type": "code",
   "execution_count": 67,
   "id": "3f0a6d41",
   "metadata": {},
   "outputs": [
    {
     "name": "stdout",
     "output_type": "stream",
     "text": [
      "['Ganjil', 'Ganjil', 'Ganjil', 'Ganjil']\n"
     ]
    }
   ],
   "source": [
    "def jumlahkata(kata):\n",
    "    if len(kata)%2 == 0:\n",
    "        return \"Genap\"\n",
    "    else:\n",
    "        return \"Ganjil\"\n",
    "\n",
    "jumlahkata(\"abc4dasar\")\n",
    "katakata = [\"abc\", \"berak\", \"putus\", \"dasoidjaoskdm\"]\n",
    "a = list(map(jumlahkata,katakata))\n",
    "\n",
    "print(a)"
   ]
  },
  {
   "cell_type": "code",
   "execution_count": 83,
   "id": "54c7355c",
   "metadata": {},
   "outputs": [
    {
     "name": "stdout",
     "output_type": "stream",
     "text": [
      "False\n",
      "[4, 6, 6, 6]\n"
     ]
    }
   ],
   "source": [
    "def cekgenap(num):\n",
    "    return num % 2 == 0\n",
    "\n",
    "print(cekgenap(7))\n",
    "\n",
    "nomor = [13,13,3,1,4,5,6,6,6]\n",
    "\n",
    "print(list(filter(cekgenap,nomor)))\n",
    "\n"
   ]
  },
  {
   "cell_type": "code",
   "execution_count": 85,
   "id": "f726866e",
   "metadata": {},
   "outputs": [
    {
     "data": {
      "text/plain": [
       "30"
      ]
     },
     "execution_count": 85,
     "metadata": {},
     "output_type": "execute_result"
    }
   ],
   "source": [
    "abc = lambda x: x*10\n",
    "abc(3)\n"
   ]
  },
  {
   "cell_type": "code",
   "execution_count": 86,
   "id": "a8c1a1b7",
   "metadata": {},
   "outputs": [
    {
     "name": "stdout",
     "output_type": "stream",
     "text": [
      "<class 'NoneType'>\n"
     ]
    }
   ],
   "source": [
    "print(type([].))"
   ]
  }
 ],
 "metadata": {
  "kernelspec": {
   "display_name": "Python 3.10.6 64-bit",
   "language": "python",
   "name": "python3"
  },
  "language_info": {
   "codemirror_mode": {
    "name": "ipython",
    "version": 3
   },
   "file_extension": ".py",
   "mimetype": "text/x-python",
   "name": "python",
   "nbconvert_exporter": "python",
   "pygments_lexer": "ipython3",
   "version": "3.10.6"
  },
  "vscode": {
   "interpreter": {
    "hash": "26de051ba29f2982a8de78e945f0abaf191376122a1563185a90213a26c5da77"
   }
  }
 },
 "nbformat": 4,
 "nbformat_minor": 5
}
